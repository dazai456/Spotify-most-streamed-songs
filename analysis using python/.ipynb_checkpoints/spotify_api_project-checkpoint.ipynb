{
 "cells": [
  {
   "cell_type": "code",
   "execution_count": 1,
   "id": "72ea2353-f4f4-4534-9b85-324bcd8886d4",
   "metadata": {},
   "outputs": [],
   "source": [
    "from dotenv import load_dotenv\n",
    "import os\n",
    "import requests as req\n",
    "import base64\n",
    "import json"
   ]
  },
  {
   "cell_type": "code",
   "execution_count": 2,
   "id": "60cb945d-ce4d-48b9-bc4e-75157dd86d63",
   "metadata": {},
   "outputs": [],
   "source": [
    "# importing env variables\n",
    "load_dotenv()\n",
    "id = os.getenv(\"CLIENT_ID\")\n",
    "secret =  os.getenv(\"CLIENT_SECRET\")"
   ]
  },
  {
   "cell_type": "code",
   "execution_count": 3,
   "id": "962d2bde-0d78-45c9-ad82-234dc4f28494",
   "metadata": {},
   "outputs": [],
   "source": [
    "# get access token\n",
    "def get_token():\n",
    "    auth_string = f\"{id}:{secret}\"\n",
    "    # auth_bytes = auth_string.encode(\"utf-8\")\n",
    "    auth_base64 = base64.b64encode(auth_string.encode())\n",
    "\n",
    "    url = \"https://accounts.spotify.com/api/token\"\n",
    "    header = {\n",
    "        \"Authorization\": f\"Basic {auth_base64.decode()}\",\n",
    "        \"Content-Type\": \"application/x-www-form-urlencoded\"\n",
    "    }\n",
    "    data = {\"grant_type\": \"client_credentials\"}\n",
    "    result = req.post(url, headers=header, data=data)\n",
    "    json_result = json.loads(result.content)\n",
    "    token = json_result[\"access_token\"]\n",
    "    return token"
   ]
  },
  {
   "cell_type": "code",
   "execution_count": 16,
   "id": "73ccd925-0ea5-4779-b5c2-719d8701712d",
   "metadata": {},
   "outputs": [],
   "source": [
    "def get_auth_header(token):\n",
    "    return {\"Authorization\": \"Bearer \" + token}"
   ]
  },
  {
   "cell_type": "code",
   "execution_count": 15,
   "id": "6e2a2cca-d9c7-4b9a-815f-ec533aaa038e",
   "metadata": {},
   "outputs": [],
   "source": [
    "def search_for_artist(token, artist):\n",
    "    url = 'https://api.spotify.com/v1/search'\n",
    "    header = get_auth_header(token)\n",
    "    query = f'?q={artist}&type=artist&limit=1'\n",
    "\n",
    "    query_url = url + query\n",
    "    result = req.get(query_url, headers=header)\n",
    "    json_result = json.loads(result.content)['artists']['items']\n",
    "    if len(json_result) == 0:\n",
    "        print('No artist found')\n",
    "        return None\n",
    "    return json_result[0]"
   ]
  },
  {
   "cell_type": "code",
   "execution_count": 41,
   "id": "d4de80ec-a021-4d12-ac02-a0aec7a88343",
   "metadata": {},
   "outputs": [],
   "source": [
    "def get_songs_by_artist(token, artist_id):\n",
    "    url = f'https://api.spotify.com/v1/artists/{artist_id}/top-tracks?country=US'\n",
    "    header = get_auth_header(token)\n",
    "    results = req.get(url, headers=header)\n",
    "    json_result = json.loads(results.content)['tracks']\n",
    "    return json_result"
   ]
  },
  {
   "cell_type": "code",
   "execution_count": 42,
   "id": "480dc2df-055e-4f69-81bb-c5f90adbfa60",
   "metadata": {},
   "outputs": [],
   "source": [
    "token = get_token()\n",
    "result = search_for_artist(token, 'dualipa')\n",
    "artist_id = result['id']\n",
    "songs = get_songs_by_artist(token, artist_id)"
   ]
  },
  {
   "cell_type": "code",
   "execution_count": 48,
   "id": "06724a7f-f66e-43f2-be78-96fbf56e18d5",
   "metadata": {
    "collapsed": true,
    "jupyter": {
     "outputs_hidden": true
    }
   },
   "outputs": [
    {
     "name": "stdout",
     "output_type": "stream",
     "text": [
      "1. Training Season\n",
      "2. Houdini\n",
      "3. Illusion\n",
      "4. Cold Heart - PNAU Remix\n",
      "5. Dance The Night - From Barbie The Album\n",
      "6. Don't Start Now\n",
      "7. One Kiss (with Dua Lipa)\n",
      "8. Levitating (feat. DaBaby)\n",
      "9. New Rules\n",
      "10. These Walls\n"
     ]
    }
   ],
   "source": [
    "for idx, song in enumerate(songs):\n",
    "    print(f\"{idx + 1}. {song['name']}\")"
   ]
  },
  {
   "cell_type": "code",
   "execution_count": 62,
   "id": "354b1e5d-ac89-442d-bdd6-b2bc2ecf369e",
   "metadata": {},
   "outputs": [
    {
     "name": "stdout",
     "output_type": "stream",
     "text": [
      "{'error': {'status': 401, 'message': 'Valid user authentication required'}}\n"
     ]
    }
   ],
   "source": [
    "def get_top_tracks(token):\n",
    "    url = 'https://api.spotify.com/v1/me/top/artists'\n",
    "    "
   ]
  }
 ],
 "metadata": {
  "kernelspec": {
   "display_name": "Python 3 (ipykernel)",
   "language": "python",
   "name": "python3"
  },
  "language_info": {
   "codemirror_mode": {
    "name": "ipython",
    "version": 3
   },
   "file_extension": ".py",
   "mimetype": "text/x-python",
   "name": "python",
   "nbconvert_exporter": "python",
   "pygments_lexer": "ipython3",
   "version": "3.12.0"
  }
 },
 "nbformat": 4,
 "nbformat_minor": 5
}
